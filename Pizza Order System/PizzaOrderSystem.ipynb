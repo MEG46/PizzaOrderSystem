{
 "cells": [
  {
   "cell_type": "code",
   "execution_count": 1,
   "id": "113e4f81",
   "metadata": {},
   "outputs": [
    {
     "name": "stdout",
     "output_type": "stream",
     "text": [
      "Pizza Bases\n",
      "\n",
      "1: Classic 18$\n",
      "2: Margherita 20$\n",
      "3: TurkPizza 19$\n",
      "4: PlainPizza 23$\n",
      "Please enter a pizza base: 3\n",
      "\n",
      "1: Olives 2$\n",
      "2: Mushrooms 4$\n",
      "3: GoatCheese 6$\n",
      "4: Meat 8$\n",
      "5: Onions 2$\n",
      "6: Corn 6$\n",
      "\n",
      "Please enter a pizza sauce: 2\n",
      "Please enter your name and surname : Muhammed Esad Goncaloglu\n"
     ]
    }
   ],
   "source": [
    "import numpy as np\n",
    "import pandas as pd\n",
    "from datetime import datetime\n",
    "menu = open('untitled.txt', 'r')\n",
    "baselist = []\n",
    "saucelist = []\n",
    "baseprice = [18,20,19,23]\n",
    "sauceprice = [2,4,6,8,2,6]\n",
    "cost = 0\n",
    "index = [0]\n",
    "def pizzabases():\n",
    "    print(\"Pizza Bases\")\n",
    "    for i in range(0, 6):\n",
    "        baselist.append(menu.readline().strip())\n",
    "    for i in range(1, 6):\n",
    "        if i < 2:\n",
    "            print(baselist[i])\n",
    "        else:\n",
    "            print(baselist[i]+\" \"+str(baseprice[i-2])+\"$\")\n",
    "                       \n",
    "def basecost(base):\n",
    "    if base > 4 and base < 0:\n",
    "        return 0  \n",
    "            \n",
    "    return baseprice[base-1]\n",
    "def saucecost(sauce):\n",
    "    if sauce > 5 and sauce < 0:\n",
    "        return 0  \n",
    "            \n",
    "    return sauceprice[sauce-1]\n",
    "def ingredients():\n",
    "    for i in range(7, 14):\n",
    "        saucelist.append(menu.readline().strip())\n",
    "    for i in range(1,7):\n",
    "        if i < 1:\n",
    "            print(saucelist[i])\n",
    "        else:\n",
    "            print(saucelist[i]+\" \"+str(sauceprice[i-1])+\"$\")\n",
    "pizzabases()\n",
    "base = int(input(\"Please enter a pizza base: \"))\n",
    "print()\n",
    "ingredients()\n",
    "print()\n",
    "sauce =  int(input(\"Please enter a pizza sauce: \"))\n",
    "cost = basecost(base) + saucecost(sauce)\n",
    "order = baselist[base]+\" with \"+saucelist[sauce]+\" sauce\"\n",
    "name = input(\"Please enter your name and surname : \")\n",
    "now = datetime.now()\n",
    "date_time = now.strftime(\"%d/%m/%Y %H:%M:%S\")\n",
    "dict = {'Name/Surname' : name ,'Order' : order,'Cost' : cost,'Date' : date_time}\n",
    "new = pd.DataFrame(dict,index=[0])\n",
    "new.to_excel(\"Orders_Database.xlsx\")\n",
    "menu.close()"
   ]
  },
  {
   "cell_type": "markdown",
   "id": "f7b88f5f",
   "metadata": {},
   "source": [
    "## "
   ]
  }
 ],
 "metadata": {
  "kernelspec": {
   "display_name": "Python 3 (ipykernel)",
   "language": "python",
   "name": "python3"
  },
  "language_info": {
   "codemirror_mode": {
    "name": "ipython",
    "version": 3
   },
   "file_extension": ".py",
   "mimetype": "text/x-python",
   "name": "python",
   "nbconvert_exporter": "python",
   "pygments_lexer": "ipython3",
   "version": "3.9.13"
  }
 },
 "nbformat": 4,
 "nbformat_minor": 5
}
